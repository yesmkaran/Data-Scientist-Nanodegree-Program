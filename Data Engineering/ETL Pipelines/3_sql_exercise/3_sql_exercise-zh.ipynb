{
 "cells": [
  {
   "cell_type": "markdown",
   "metadata": {},
   "source": [
    "# 从 SQL 数据库提取数据\n",
    "\n",
    "在这个 Notebook 中，你会学到如何从 SQL 数据库中提取数据。这里介绍了一些 Python 工具，并且我们默认你已经有过写 SQL 语句的经验。"
   ]
  },
  {
   "cell_type": "markdown",
   "metadata": {},
   "source": [
    "# Pandas 和 sqlite3\n",
    "\n",
    "你可以使用 pandas 来打开 SQL 数据库或者运行 SQL 查询。根据你使用的 SQL 数据库类型：[sqlite3 library](https://www.sqlite.org/about.html) 还是 [sqlalchemy library](https://www.sqlalchemy.org/)，有不止一种方法。\n",
    "\n",
    "在 Jupyter notebook 的文件夹里有一个 SQLite 数据库文件，叫做 \"population_data.db\"。SQLite 是为单个应用程序设计的数据库引擎，一个文件就包含了整个数据库。你可以在[这里](https://www.sqlite.org/whentouse.html)了解更多关于 SQLite  的信息。 \n",
    "\n",
    "在这个示例中，\"population_data.db\" 数据库只包含一个表格，叫做 \"population_data\"。运行下方单元格中的代码，查看如何使用 pandas 来处理 SQLite 数据库。如果你好奇数据是如何从 CSV 文件转换成数据库的，你可以进入File->Open，点击create_db.py。本 Jupyter notebook 底部有一个练习。"
   ]
  },
  {
   "cell_type": "markdown",
   "metadata": {},
   "source": [
    "# 示例：SQLite3 和 Pandas"
   ]
  },
  {
   "cell_type": "code",
   "execution_count": null,
   "metadata": {},
   "outputs": [],
   "source": [
    "import sqlite3\n",
    "import pandas as pd\n",
    "\n",
    "# connect to the database\n",
    "conn = sqlite3.connect('population_data.db')\n",
    "\n",
    "# run a query\n",
    "pd.read_sql('SELECT * FROM population_data', conn)"
   ]
  },
  {
   "cell_type": "code",
   "execution_count": null,
   "metadata": {},
   "outputs": [],
   "source": [
    "pd.read_sql('SELECT \"Country_Name\", \"Country_Code\", \"1960\" FROM population_data', conn)"
   ]
  },
  {
   "cell_type": "markdown",
   "metadata": {},
   "source": [
    "# 示例：SQLAlchemy 和 Pandas\n",
    "\n",
    "如果你要处理的是不同的数据库，如 MySQL 或 PostgreSQL，你可以使用 SQLAlchemy 和 pandas 库。可以查阅用SQLAlchemy连接不同数据库的[指南](http://docs.sqlalchemy.org/en/latest/core/engines.html)。\n",
    "\n",
    "运行下面的代码看看如何连接到 population_data.db 数据库。"
   ]
  },
  {
   "cell_type": "code",
   "execution_count": null,
   "metadata": {},
   "outputs": [],
   "source": [
    "import pandas as pd\n",
    "from sqlalchemy import create_engine\n",
    "\n",
    "### \n",
    "# create a database engine \n",
    "# to find the correct file path, use the python os library:\n",
    "# import os\n",
    "# print(os.getcwd())\n",
    "#\n",
    "###\n",
    "\n",
    "engine = create_engine('sqlite:////home/workspace/3_sql_exercise/population_data.db')\n",
    "pd.read_sql(\"SELECT * FROM population_data\", engine)"
   ]
  },
  {
   "cell_type": "markdown",
   "metadata": {},
   "source": [
    "# 练习\n",
    "\n",
    "连接到 population_data.db SQLite 数据库，回答下面的问题：\n",
    "1.写查询语句找出从 1960 到 1961 年 阿鲁巴 (Aruba) 的人口变化。\n",
    "2.写查询语句找出 Belgium 和 Luxembourg 1975 年的人口。返回的结果有 2 行。\n",
    "\n",
    "本练习配有解决方案文档，通过 File->Open->3_sql_exercise_solution.ipynb 查看。"
   ]
  }
 ],
 "metadata": {
  "kernelspec": {
   "display_name": "Python 3",
   "language": "python",
   "name": "python3"
  },
  "language_info": {
   "codemirror_mode": {
    "name": "ipython",
    "version": 3
   },
   "file_extension": ".py",
   "mimetype": "text/x-python",
   "name": "python",
   "nbconvert_exporter": "python",
   "pygments_lexer": "ipython3",
   "version": "3.6.3"
  }
 },
 "nbformat": 4,
 "nbformat_minor": 2
}
