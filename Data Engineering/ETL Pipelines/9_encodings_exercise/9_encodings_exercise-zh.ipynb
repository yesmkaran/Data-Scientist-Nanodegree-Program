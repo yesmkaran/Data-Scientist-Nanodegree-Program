{
 "cells": [
  {
   "cell_type": "markdown",
   "metadata": {},
   "source": [
    "# 字符编码\n",
    "\n",
    "字符编码是一组将字符映射为二进制编码的规则。Python 支持很多种字符编码，可以参考[这个链接](https://docs.python.org/3/library/codecs.html#standard-encodings)。因为互联网是英语起源，所以字符编码规则是将二进制码映射为英文字母表。  \n",
    "\n",
    "英文字母表只有 26 个字母。但是其他的语言有很多其他的字母，比如重音符号、波浪号和变音符号。长此以往，出现了越来越多的字符编码，以处理英语外的其他语言。utf-8 标准试图提供一套字符编码模式，以涵盖所有的字符。\n",
    "\n",
    "其问题在于除非他人告知，否则我们很难知道文件是使用什么字符编码创建的。目前最常用的字符编码是 utf-8。pandas 在读和写文件时，默认文件是 utf-8 编码的。\n",
    "\n",
    "运行下方单元格中的代码，读取人口数据集。"
   ]
  },
  {
   "cell_type": "code",
   "execution_count": null,
   "metadata": {},
   "outputs": [],
   "source": [
    "import pandas as pd\n",
    "df = pd.read_csv('../data/population_data.csv', skiprows=4)"
   ]
  },
  {
   "cell_type": "markdown",
   "metadata": {},
   "source": [
    "pandas 应该可以顺利读取这个数据集。接下来，运行下方单元格中的代码，读取 'mystery.csv' 文件。"
   ]
  },
  {
   "cell_type": "code",
   "execution_count": null,
   "metadata": {},
   "outputs": [],
   "source": [
    "import pandas as pd\n",
    "df = pd.read_csv('mystery.csv')"
   ]
  },
  {
   "cell_type": "markdown",
   "metadata": {},
   "source": [
    "你应该会遇到一个报错：**UnicodeDecodeError:'utf-8' codec can't decode byte 0xff in position 0: invalid start byte**。这说明 pandas 以为这个文件是 utf-8 编码的，但是读取过程发生了错误。 \n",
    "\n",
    "下个单元格中，你的任务是搞清楚 mystery.csv 文件是什么编码。"
   ]
  },
  {
   "cell_type": "code",
   "execution_count": null,
   "metadata": {},
   "outputs": [],
   "source": [
    "# TODO: Figure out what the encoding is of the myster.csv file\n",
    "# HINT: pd.read_csv('mystery.csv', encoding=?) where ? is the string for an encoding like 'ascii'\n",
    "# HINT: This link has a list of encodings that Python recognizes https://docs.python.org/3/library/codecs.html#standard-encodings\n",
    "\n",
    "# Python has a file containing a dictionary of encoding names and associated aliases\n",
    "# This line imports the dictionary and then creates a set of all available encodings\n",
    "# You can use this set of encodings to search for the correct encoding\n",
    "# If you'd like to see what this file looks like, execute the following Python code to see where the file is located\n",
    "#    from encodings import aliases\n",
    "#    aliases.__file__\n",
    "\n",
    "from encodings.aliases import aliases\n",
    "\n",
    "alias_values = set(aliases.values())\n",
    "\n",
    "# TODO: iterate through the alias_values list trying out the different encodings to see which one or ones work\n",
    "# HINT: Use a try - except statement. Otherwise your code will produce an error when reading in the csv file\n",
    "#       with the wrong encoding.\n",
    "# HINT: In the try statement, print out the encoding name so that you know which one(s) worked.\n"
   ]
  },
  {
   "cell_type": "markdown",
   "metadata": {},
   "source": [
    "# 结语\n",
    "\n",
    "Python 可以处理好几十种字符编码。但是，pandas 默认文件是 utf-8 编码的。这也有道理，因为 utf-8 很常见。但是，有时候会遇到某些其他字符编码的文件。如果你不知道它的编码是什么，你得先搜索。\n",
    "\n",
    "注意，和往常一样，练习配有解决方案文件。进入 File-> Open。\n",
    "\n",
    "在你搞不清楚字符编码是哪种格式的时候，有一个 Python 库可以帮到你：chardet 。运行下方单元格中的代码看看它的作用。\n"
   ]
  },
  {
   "cell_type": "code",
   "execution_count": 3,
   "metadata": {},
   "outputs": [
    {
     "name": "stdout",
     "output_type": "stream",
     "text": [
      "Requirement already satisfied: chardet in /anaconda3/lib/python3.6/site-packages (3.0.4)\n",
      "\u001b[31mflask-cors 3.0.3 requires Flask>=0.9, which is not installed.\u001b[0m\n",
      "\u001b[31mblaze 0.11.3 requires flask>=0.10.1, which is not installed.\u001b[0m\n",
      "{'encoding': 'UTF-16', 'confidence': 1.0, 'language': ''}\n"
     ]
    }
   ],
   "source": [
    "# install the chardet library\n",
    "!pip install chardet"
   ]
  },
  {
   "cell_type": "code",
   "execution_count": 4,
   "metadata": {},
   "outputs": [
    {
     "name": "stdout",
     "output_type": "stream",
     "text": [
      "{'encoding': 'UTF-16', 'confidence': 1.0, 'language': ''}\n"
     ]
    }
   ],
   "source": [
    "# import the chardet library\n",
    "import chardet \n",
    "\n",
    "# use the detect method to find the encoding\n",
    "# 'rb' means read in the file as binary\n",
    "with open(\"mystery.csv\", 'rb') as file:\n",
    "    print(chardet.detect(file.read()))"
   ]
  }
 ],
 "metadata": {
  "kernelspec": {
   "display_name": "Python 3",
   "language": "python",
   "name": "python3"
  },
  "language_info": {
   "codemirror_mode": {
    "name": "ipython",
    "version": 3
   },
   "file_extension": ".py",
   "mimetype": "text/x-python",
   "name": "python",
   "nbconvert_exporter": "python",
   "pygments_lexer": "ipython3",
   "version": "3.6.3"
  }
 },
 "nbformat": 4,
 "nbformat_minor": 2
}
