{
 "cells": [
  {
   "cell_type": "markdown",
   "metadata": {},
   "source": [
    "# 数据类型\n",
    "\n",
    "在读取数据的时候，pandas会试着猜测每个列的数据类型，比如浮点型、整数类型、日期时间型、布尔型等等。在 pandas 中，字符串类型被称作 \"object\" 数据类型 (dtypes)。 \n",
    "\n",
    "然后，pandas 不一定总能猜对。世界银行项目数据就会遇到这个问题。因此，数据类型 (dtype) 参数被指定为字符串 (string)：\n",
    "```\n",
    "df_projects = pd.read_csv('../data/projects_data.csv', dtype=str)\n",
    "```\n",
    "\n",
    "运行下方单元格中的代码来读取指标和项目数据集。运行下方单元格中的代码来查看指标数据集中的数据类型。"
   ]
  },
  {
   "cell_type": "code",
   "execution_count": null,
   "metadata": {},
   "outputs": [],
   "source": [
    "# Run this code cell\n",
    "\n",
    "import pandas as pd\n",
    "\n",
    "# read in the population data and drop the final column\n",
    "df_indicator = pd.read_csv('../data/population_data.csv', skiprows=4)\n",
    "df_indicator.drop(['Unnamed: 62'], axis=1, inplace=True)\n",
    "\n",
    "# read in the projects data set with all columns type string\n",
    "df_projects = pd.read_csv('../data/projects_data.csv', dtype=str)\n",
    "df_projects.drop(['Unnamed: 56'], axis=1, inplace=True)"
   ]
  },
  {
   "cell_type": "code",
   "execution_count": null,
   "metadata": {},
   "outputs": [],
   "source": [
    "# Run this code cell \n",
    "df_indicator.dtypes"
   ]
  },
  {
   "cell_type": "markdown",
   "metadata": {},
   "source": [
    "结果看起来很合理。国家名称 (Country Name)、国家代号 (Country Code)、指标名称 (Indicator Name) 和指标代号 (Indicator Code) 都按照字符串形式读取进来了。年份 (year) 列，里面是人口数据，是浮点数形式。\n",
    "\n",
    "# 练习 1\n",
    "\n",
    "既然人口指标数据的读取是正确的，你可以使用数据进行计算。下面第一个练习，要将美国 (the United States) 、加拿大 (Canada) 和墨西哥(Mexico) 的人口按年份求和。"
   ]
  },
  {
   "cell_type": "code",
   "execution_count": null,
   "metadata": {},
   "outputs": [],
   "source": [
    "# TODO: Calculate the population sum by year for Canada,\n",
    "#       the United States, and Mexico.\n",
    "\n",
    "# the keepcol variable makes a list of the column names to keep. You can use this if you'd like\n",
    "keepcol = ['Country Name']\n",
    "for i in range(1960, 2018, 1):\n",
    "    keepcol.append(str(i))\n",
    "\n",
    "# TODO: In the df_nafta variable, store a data frame that only contains the rows for \n",
    "#      Canada, United States, and Mexico.\n",
    "df_nafta = None\n",
    "\n",
    "\n",
    "# TODO: Calculate the sum of the values in each column in order to find the total population by year.\n",
    "# You can use the keepcol variable if you want to control which columns get outputted"
   ]
  },
  {
   "cell_type": "markdown",
   "metadata": {},
   "source": [
    "# 练习 2\n",
    "\n",
    "运行下方单元格中的代码，查看项目数据集的数据类型。它们应该都是 \"object\" 类型，也就是字符串类型，这是我们在 CSV 文件读取代码中指定好的。提醒一下，这是代码部分：\n",
    "```\n",
    "df_projects = pd.read_csv('../data/projects_data.csv', dtype=str)\n",
    "```"
   ]
  },
  {
   "cell_type": "code",
   "execution_count": null,
   "metadata": {},
   "outputs": [],
   "source": [
    "# Run this code cell\n",
    "df_projects.dtypes"
   ]
  },
  {
   "cell_type": "markdown",
   "metadata": {},
   "source": [
    "很多列应该是字符串，没有问题；但是有些列应该是其他的数据类型。例如，`boardapprovaldate`  应该是日期时间类型 `totalamt` 应该是整数类型。你会在这节课的下一个部分学习到日期时间类型。本练习中，我们主要讨论 'totalamt' 和 'lendprojectcost'  这两列。运行下方单元格的代码来查看数据"
   ]
  },
  {
   "cell_type": "code",
   "execution_count": null,
   "metadata": {},
   "outputs": [],
   "source": [
    "# Run this code cell\n",
    "df_projects[['totalamt', 'lendprojectcost']].head()"
   ]
  },
  {
   "cell_type": "code",
   "execution_count": null,
   "metadata": {},
   "outputs": [],
   "source": [
    "# Run this code cell to take the sum of the total amount column\n",
    "df_projects['totalamt'].sum()"
   ]
  },
  {
   "cell_type": "markdown",
   "metadata": {},
   "source": [
    "发生了什么？Pandas 将 totalamts 作为字符串处理。在 Python 中，将字符串相加就会把字符串首尾连接起来。\n",
    "\n",
    "有几种改正的方法。在使用 pd.read_csv() 的时候，你可以指定数据集中每列的数据类型。pd.read_csv() 的 dtype 参数可以接收一个词典，该词典将列名映射为对应的数据类型。你可以用 `thousands=','` 指定  `thousands` 参数。这样就指定了千位的分隔符为 ‘,’ 。 \n",
    "\n",
    "但是，这些数据有点乱，有缺失值，还有大量的列。直接将整个数据集以字符串形式读进来，然后根据需要调整某些列可能更快。下一个练习，将 `totalamt` 列从字符串类型转换为整数类型。"
   ]
  },
  {
   "cell_type": "code",
   "execution_count": null,
   "metadata": {},
   "outputs": [],
   "source": [
    "# TODO: Convert the totalamt column from a string to a float and save the results back into the totalamt column\n",
    "\n",
    "# Step 1: Remove the commas from the 'totalamt' column\n",
    "# HINT: https://pandas.pydata.org/pandas-docs/version/0.22/generated/pandas.Series.str.replace.html\n",
    "\n",
    "# Step 2: Convert the 'totalamt' column from an object data type (ie string) to an integer data type.\n",
    "# HINT: https://pandas.pydata.org/pandas-docs/version/0.23/generated/pandas.to_numeric.html\n",
    "\n",
    "df_projects['totalamt'] = df_projects['totalamt']"
   ]
  },
  {
   "cell_type": "markdown",
   "metadata": {},
   "source": [
    "# 结语\n",
    "\n",
    "对于杂乱数据，你会发现直接把所有数据以字符串形式读进来会很容易。然后，你得把某些字符串类型的类转换成更合适的数据类型。当打印数据框的数据类型 (dtype) 时，你一般会看到以下几种结果：\n",
    "* float64\n",
    "* int64\n",
    "* bool\n",
    "* datetime64\n",
    "* timedelta\n",
    "* object\n",
    "\n",
    "其中  timedelta 表示两个日期时间类型的差值，object 是字符串类型。你看到了，有时候你需要将数据从一种类型转换为另一种类型。pandas 有几种不同方法可以转换数据类型，这是文档的一些链接：\n",
    "\n",
    "* [astype](https://pandas.pydata.org/pandas-docs/version/0.22/generated/pandas.DataFrame.astype.html#pandas.DataFrame.astype)\n",
    "* [to_datetime](https://pandas.pydata.org/pandas-docs/version/0.22/generated/pandas.to_datetime.html#pandas.to_datetime)\n",
    "* [to_numeric](https://pandas.pydata.org/pandas-docs/version/0.22/generated/pandas.to_numeric.html#pandas.to_numeric)\n",
    "* [to_timedelta](https://pandas.pydata.org/pandas-docs/version/0.22/generated/pandas.to_timedelta.html#pandas.to_timedelta)"
   ]
  },
  {
   "cell_type": "code",
   "execution_count": null,
   "metadata": {},
   "outputs": [],
   "source": []
  },
  {
   "cell_type": "code",
   "execution_count": null,
   "metadata": {},
   "outputs": [],
   "source": []
  }
 ],
 "metadata": {
  "kernelspec": {
   "display_name": "Python 3",
   "language": "python",
   "name": "python3"
  },
  "language_info": {
   "codemirror_mode": {
    "name": "ipython",
    "version": 3
   },
   "file_extension": ".py",
   "mimetype": "text/x-python",
   "name": "python",
   "nbconvert_exporter": "python",
   "pygments_lexer": "ipython3",
   "version": "3.6.3"
  }
 },
 "nbformat": 4,
 "nbformat_minor": 2
}
