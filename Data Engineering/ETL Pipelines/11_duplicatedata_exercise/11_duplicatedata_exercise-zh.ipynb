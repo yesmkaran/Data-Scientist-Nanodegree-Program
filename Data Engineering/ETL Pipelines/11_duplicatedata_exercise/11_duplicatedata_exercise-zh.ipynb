{
 "cells": [
  {
   "cell_type": "markdown",
   "metadata": {},
   "source": [
    "# 重复数据\n",
    "\n",
    "一个数据集可能有重复数据：也就是说，同一个数据被表达了很多次。有时候，因为两个记录完全一样，找到重复数据并删除，这很简单。其他情况下，视频中讨论过这种情况，重复数据很难发现。 \n",
    "\n",
    "# 练习 1\n",
    "\n",
    "在时间银行 GDP 数据中，需要计算有过总额 (totalamt) 超过十亿 (1,000,000,000) 美元的项目的国家的个数。为了得到这个数目，我们需要删除重复的数据行。"
   ]
  },
  {
   "cell_type": "code",
   "execution_count": null,
   "metadata": {},
   "outputs": [],
   "source": [
    "import pandas as pd\n",
    "\n",
    "# read in the projects data set and do some basic wrangling \n",
    "projects = pd.read_csv('../data/projects_data.csv', dtype=str)\n",
    "projects.drop('Unnamed: 56', axis=1, inplace=True)\n",
    "projects['totalamt'] = pd.to_numeric(projects['totalamt'].str.replace(',', ''))\n",
    "projects['countryname'] = projects['countryname'].str.split(';', expand=True)[0]\n",
    "projects['boardapprovaldate'] = pd.to_datetime(projects['boardapprovaldate'])\n",
    "\n",
    "# TODO: filter the data frame for projects over 1 billion dollars\n",
    "# TODO: count the number of unique countries in the results"
   ]
  },
  {
   "cell_type": "markdown",
   "metadata": {},
   "source": [
    "# 练习 2 (困难)\n",
    "\n",
    "这个练习有一些难度。项目数据集包含数据如 Yugoslavia，这是个东欧国家，1992 年就不存在了。Yugoslavia 后来解体成了 7 个国家：Bosnia、Herzegovina、Croatia、Kosovo、Macedonia、Montenegro、Serbia 和 Slovenia。你的任务是找到在数据集中多次重复出现的、可能属于 Yugoslavia 的项目。"
   ]
  },
  {
   "cell_type": "code",
   "execution_count": null,
   "metadata": {},
   "outputs": [],
   "source": [
    "# TODO: output all projects for the 'Socialist Federal Republic of Yugoslavia'\n",
    "# HINT: You can use the exact country name or use the pandas str.contains() method to search for Yugoslavia"
   ]
  },
  {
   "cell_type": "markdown",
   "metadata": {},
   "source": [
    "Yugoslavia 于 [1992 年 4 月 27 日](https://en.wikipedia.org/wiki/Yugoslavia) 宣告解体。 \n",
    "\n",
    "在下方的代码单元格，筛选 'boardapprovaldate' 早于 1992 年4 月 27 日 **以及** 'countryname' 是 Bosnia，Herzegovina, Croatia, Kosovo, Macedonia, Serbia **或者** Slovenia 的项目。你会发现一共有 12 个项目满足搜索条件。将结果保存到 republics 变量中。"
   ]
  },
  {
   "cell_type": "code",
   "execution_count": null,
   "metadata": {},
   "outputs": [],
   "source": [
    "import datetime\n",
    "\n",
    "# TODO: filter the projects data set for project boardapprovaldate prior to April 27th, 1992 AND with countryname\n",
    "#  of either 'Bosnia and Herzegovina', 'Croatia', 'Kosovo', 'Macedonia', 'Serbia', or 'Sovenia'. Store the\n",
    "#  results in the republics variable\n",
    "#\n",
    "#  TODO: so that it's easier to see all the data, keep only these columns:\n",
    "# ['regionname', 'countryname', 'lendinginstr', 'totalamt', 'boardapprovaldate',\n",
    "# 'location','GeoLocID', 'GeoLocName', 'Latitude','Longitude','Country', 'project_name']\n",
    "\n",
    "# TODO: sort the results by boardapprovaldate\n",
    "\n",
    "republics = None \n",
    "\n",
    "# show the results\n",
    "republics"
   ]
  },
  {
   "cell_type": "markdown",
   "metadata": {},
   "source": [
    "这些项目也在标有 Yugoslavia 的数据中出现过吗？在下方的代码单元格，筛选出1980年2月1日到1989年5月23日的 Yugoslavia 的所有项目。保存结果到 yugoslavia 变量中。\n",
    "\n",
    "目标是查看数据集中是否有数据出现过不止一次。"
   ]
  },
  {
   "cell_type": "code",
   "execution_count": null,
   "metadata": {},
   "outputs": [],
   "source": [
    "# TODO: Filter the projects data for Yugoslavia projects between\n",
    "# February 1st, 1980 and May 23rd, 1989. Store the results in the\n",
    "# Yugoslavia variable. Keep the same columns as the previous code cell.\n",
    "# Sort the values by boardapprovaldate\n",
    "\n",
    "yugoslavia = None \n",
    "\n",
    "# show the results\n",
    "yugoslavia"
   ]
  },
  {
   "cell_type": "markdown",
   "metadata": {},
   "source": [
    "最后，看看 republics 变量和yugoslavia 变量中是否有相同的项目。\n",
    "\n",
    "有几种方法可以实现这个效果。我们建议你在 republics 变量里找到去重的日期。再在 yugoslavia 变量里找到去重的日期。将列表连接 (concatenate i.e. append)  ) 起来。然后数一下列表中每个日期出现的次数。如果有日期出现两次，说明同一个 boardapprovaldate 同时出现在 Yugoslavia 和republics 数据里。\n",
    "\n",
    "你会找到四个可能的对象：\n",
    "\n",
    "* July 26th, 1983\n",
    "* March 31st, 1987\n",
    "* October 13th, 1987\n",
    "* May 23rd, 1989"
   ]
  },
  {
   "cell_type": "code",
   "execution_count": null,
   "metadata": {},
   "outputs": [],
   "source": [
    "import numpy as np\n",
    "\n",
    "# TODO: find the unique dates in the republics variable\n",
    "republic_unique_dates = None\n",
    "\n",
    "# TODO: find the unique dates in the yugoslavia variable\n",
    "yugoslavia_unique_dates = None\n",
    "\n",
    "# TODO: make a list of the results appending one list to the other\n",
    "dates = None\n",
    "\n",
    "# TODO: print out the dates that appeared twice in the results"
   ]
  },
  {
   "cell_type": "markdown",
   "metadata": {},
   "source": [
    "# 结语\n",
    "\n",
    "比如，在 1983 年 7 月 26 日，Bosnia、Herzegovina、Croatia、Macedonia、Slovenia 和 Yugoslavia 的项目通过了审批。下方的代码展示了当天的所有项目。你会注意到 Yugoslavia 有 2 个项目，一个是是电力输送项目 \"Power Transmission Project (03) Energy Managem...\"。其他国家的项目叫做 \"POWER TRANS.III\"。 \n",
    "\n",
    "看起来是一个重复数据了。你将采取的解决方案要视情况而定。比如，如果你想要获得真实的数据集中所有项目的个数，这些项目是不是应该都算作一个项目呢？ \n",
    "\n",
    "运行下方的代码，查看这些待处理的项目。"
   ]
  },
  {
   "cell_type": "code",
   "execution_count": null,
   "metadata": {},
   "outputs": [],
   "source": [
    "import datetime\n",
    "\n",
    "# run this code cell to see the duplicate data\n",
    "pd.concat([yugoslavia[yugoslavia['boardapprovaldate'] == datetime.date(1983, 7, 26)], republics[republics['boardapprovaldate'] == datetime.date(1983, 7, 26)]])"
   ]
  },
  {
   "cell_type": "code",
   "execution_count": null,
   "metadata": {},
   "outputs": [],
   "source": []
  }
 ],
 "metadata": {
  "kernelspec": {
   "display_name": "Python 3",
   "language": "python",
   "name": "python3"
  },
  "language_info": {
   "codemirror_mode": {
    "name": "ipython",
    "version": 3
   },
   "file_extension": ".py",
   "mimetype": "text/x-python",
   "name": "python",
   "nbconvert_exporter": "python",
   "pygments_lexer": "ipython3",
   "version": "3.6.3"
  }
 },
 "nbformat": 4,
 "nbformat_minor": 2
}
