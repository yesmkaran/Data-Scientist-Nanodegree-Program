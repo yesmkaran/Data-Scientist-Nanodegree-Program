{
 "cells": [
  {
   "cell_type": "markdown",
   "metadata": {},
   "source": [
    "# API\n",
    "\n",
    "这次我们不再通过 csv 文件的方式下载世界银行数据了，使用世界银行 API 来下载数据。练习的目标是练习用另一种方法提取数据。\n",
    "\n",
    "API 是应用程序接口 (application programming interface) 的缩写。API 提供了两种程序发送数据的标准方式.在这个例子中，发送数据的两个应用程序是，世界银行保存数据的服务器应用和你的Jupyter notebook。\n",
    "\n",
    "如果你想要直接从世界银行的服务器上拉取数据，你得知道世界银行使用的是什么数据库系统。你还需要获取直接登录服务器的权限，这对世界银行来说会是安全隐患。如果数据银行将数据迁移到新系统的话，你还得重新编写所有代码。API 让你可以不用登录权限就可以运行世界银行服务器中的代码。\n",
    "\n",
    "# API 出现之前...\n",
    "\n",
    "在 API 出现之前，我们使用爬虫。人们直接从网站下载 html，然后编写代码来解析结果。这种行为处于法律灰色地带。一个原因是 API 推广开来后，公司会通过 API 提供数据给用户，不鼓励网络爬虫。\n",
    "\n",
    "这是一些关于网络爬虫合法性的链接。\n",
    "\n",
    "* [QVC 不能阻止网络爬虫](https://www.forbes.com/sites/ericgoldman/2015/03/24/qvc-cant-stop-web-scraping/#120db59b3ca3)\n",
    "* [Quora：网络爬虫的合法性](https://www.quora.com/What-is-the-legality-of-web-scraping)\n",
    "\n",
    "基本所有公司都有公开的 API ，包括 Facebook, Twitter, Google 和 Pinterest。你可以从这些公司拉取数据来开发你的应用。\n",
    "\n",
    "在这个 notebook 中，你要练习用 Python 从世界银行指标数据库拉取数据。\n",
    "\n",
    "这是世界银行指标数据和项目数据的 API 的相关信息，供你参考。\n",
    "* [世界银行指标数据 API](world bank projects api)\n",
    "* [世界银行项目数据 API](http://search.worldbank.org/api/v2/projects)"
   ]
  },
  {
   "cell_type": "markdown",
   "metadata": {},
   "source": [
    "# 使用 API\n",
    "\n",
    "一般来说，我们通过网址访问 API。在这个网址中，你需要说明你想要什么数据。你需要阅读 API 文档来了解网址的格式。一些 API 还需要你发送登录证书 (login credentials) 作为请求的一部分。世界银行 API 是公开的，不需要登陆证书。Python 的 requests 库让使用 API 编程更简单明了。"
   ]
  },
  {
   "cell_type": "markdown",
   "metadata": {},
   "source": [
    "# 世界银行指标数据 API 示例\n",
    "\n",
    "运行下方的示例代码来从世界银行指标 API 来获取数据。根据文档，你应该将你的请求 url 设计成这样：\n",
    "\n",
    "`http://api.worldbank.org/v2/countries/` + 国家简称列表（用;分隔） + `/indicators/` + 指标名称 + `?` + 参数\n",
    "\n",
    "参数包括\n",
    "* per_page – 每页返回的记录数\n",
    "* page – 返回第几页 – 例如有5000 条记录，每页 100 条记录\n",
    "* date – 根据日期筛选\n",
    "* format - json 或 xml\n",
    " \n",
    "你可以阅读[这里](https://datahelpdesk.worldbank.org/knowledgebase/articles/898581-api-basic-call-structure) 查看更多参数的说明。"
   ]
  },
  {
   "cell_type": "code",
   "execution_count": null,
   "metadata": {},
   "outputs": [],
   "source": [
    "import requests\n",
    "import pandas as pd\n",
    "\n",
    "url = 'http://api.worldbank.org/v2/countries/br;cn;us;de/indicators/SP.POP.TOTL/?format=json&per_page=1000'\n",
    "r = requests.get(url)\n",
    "r.json()"
   ]
  },
  {
   "cell_type": "markdown",
   "metadata": {},
   "source": [
    "json 数据不能直接转成 pandas 数据框。注意，json 格式的返回值是一个有两个数据项的列表。第一个数据项 \n",
    "```\n",
    "{'lastupdated': '2018-06-28',\n",
    "  'page': 1,\n",
    "  'pages': 1,\n",
    "  'per_page': 1000,\n",
    "  'total': 232}\n",
    "```\n",
    "\n",
    "第一个数据项是关于结果的元数据。例如，它说明返回了 1 页，共 232 条记录。 \n",
    "\n",
    "第二个数据项是包含数据的列表。这些数据需要先清洗才能放到 dataframe 里。我们会在 ETL 管道的下一步数据转换步骤进行处理。运行下面单元格中的代码，将结果录入 dataframe 中，看看发生了什么。"
   ]
  },
  {
   "cell_type": "code",
   "execution_count": null,
   "metadata": {},
   "outputs": [],
   "source": [
    "###\n",
    "# Run this cell that converts the json into a dataframe\n",
    "# Note that you do not need the pd.read_json() method because this is not a file or a string containing json \n",
    "##\n",
    "\n",
    "pd.DataFrame(r.json()[1])"
   ]
  },
  {
   "cell_type": "markdown",
   "metadata": {},
   "source": [
    "生成 dataframe 的过程出了一些问题。国家 (country) 和指标 (indicator) 变量的目前的形式看起来不是很有用。一样，我们要到数据转换阶段再处理这种情况，课程稍后会讲到。"
   ]
  },
  {
   "cell_type": "markdown",
   "metadata": {},
   "source": [
    "# 世界银行指标数据 API 练习\n",
    "\n",
    "使用指标 API 来请求瑞士 (Switzerland) 1995 年到 2001 年的农村人口数量。这是一些参考资料：\n",
    "* [如何对年份进行筛选的文档](https://datahelpdesk.worldbank.org/knowledgebase/articles/898581-api-basic-call-structure)\n",
    "* [2位 ISO 国家码](https://www.nationsonline.org/oneworld/country_code_list.htm)\n",
    "* [世界银行指标搜索框](https://data.worldbank.org)\n",
    "\n",
    "要找到指标代码，可以现在这里搜索： https://data.worldbank.org\n",
    "点击指标名称。指标代码就在 url 里。例如，总人口的指标代码是SP.POP.TOTL，你可以在链接[https://data.worldbank.org/indicator/SP.RUR.TOTL](https://data.worldbank.org/indicator/SP.RUR.TOTL) 中找到。"
   ]
  },
  {
   "cell_type": "code",
   "execution_count": null,
   "metadata": {},
   "outputs": [],
   "source": [
    "# TODO: get the url ready\n",
    "url = None\n",
    "\n",
    "# TODO: send the request\n",
    "r = None\n",
    "\n",
    "# TODO: output the json using the json method like in the previous example"
   ]
  }
 ],
 "metadata": {
  "kernelspec": {
   "display_name": "Python 3",
   "language": "python",
   "name": "python3"
  },
  "language_info": {
   "codemirror_mode": {
    "name": "ipython",
    "version": 3
   },
   "file_extension": ".py",
   "mimetype": "text/x-python",
   "name": "python",
   "nbconvert_exporter": "python",
   "pygments_lexer": "ipython3",
   "version": "3.6.3"
  }
 },
 "nbformat": 4,
 "nbformat_minor": 2
}
