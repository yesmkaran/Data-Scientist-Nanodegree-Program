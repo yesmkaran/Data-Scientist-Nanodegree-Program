{
 "cells": [
  {
   "cell_type": "markdown",
   "metadata": {},
   "source": [
    "# 从 JSON 和 XML 文件中提取数据\n",
    "\n",
    "现在你要练习从 JSON 和 XML 文件中提取数据了。要提取的数据和上个练习是一样的，只是文件格式不同。\n",
    "\n",
    "JSON 和 XML 都是存储数据的常用格式。XML 比 JSON 出现得更早，JSON 目前更受欢迎。他们都用来通过网络 API 发送数据，这会在后面学到。\n",
    "\n",
    "有时，你要获取的数据有 JSON 和 XML 两种格式，世界银行指标数据就提供了这两种格式。在本练习中，你使用的是相同的数据，只不过一个是 JSON 文件，一个是 XML 文件。"
   ]
  },
  {
   "cell_type": "markdown",
   "metadata": {},
   "source": [
    "# 从 JSON 文件中提取数据\n",
    "\n",
    "首先，你要练习从 JSON 文件中提取数据。运行下面的单元格打印 JSON 文件的第一行。"
   ]
  },
  {
   "cell_type": "code",
   "execution_count": null,
   "metadata": {},
   "outputs": [],
   "source": [
    "### \n",
    "#   Run the following cell.\n",
    "#   This cell loads a function that prints the first n lines of\n",
    "#   a file.\n",
    "#\n",
    "#   Then this function is called on the JSON file to print out\n",
    "#   the first line of the population_data.json file\n",
    "###\n",
    "\n",
    "def print_lines(n, file_name):\n",
    "    f = open(file_name)\n",
    "    for i in range(n):\n",
    "        print(f.readline())\n",
    "    f.close()\n",
    "    \n",
    "print_lines(1, 'population_data.json')"
   ]
  },
  {
   "cell_type": "markdown",
   "metadata": {},
   "source": [
    "这个文件的第一行其实就是整个文件了。JSON 是一种将数据表示为类似词典的紧凑的格式。幸运的是，pandas 有一个方法 [读取 JSON 文件](https://pandas.pydata.org/pandas-docs/stable/generated/pandas.read_json.html) 并将结果进行解析。 \n",
    "\n",
    "打开链接中的文档，你会看到一个 *orient* 参数让你能处理多种格式的 JSON 文件：\n",
    "```\n",
    "'split' : dict like {index -> [index], columns -> [columns], data -> [values]}\n",
    "\n",
    "'records' : list like [{column -> value}, ... , {column -> value}]\n",
    "\n",
    "'index' : dict like {index -> {column -> value}}\n",
    "\n",
    "'columns' : dict like {column -> {index -> value}}\n",
    "\n",
    "'values' : just the values array\n",
    "```\n",
    "\n",
    "这个例子中 JSON 的orientation 属性是 'records'，所以你要在 read_json() 方法中传入这个值。你也可以通过和文档中给出的 JSON 文件的不同格式进行对比，找出orientation 属性是 'records'。\n",
    "\n",
    "接下来，使用 pandas 读取 population_data.json 文件。"
   ]
  },
  {
   "cell_type": "code",
   "execution_count": null,
   "metadata": {},
   "outputs": [],
   "source": [
    "# TODO: Read in the population_data.json file using pandas's \n",
    "# read_json method. Don't forget to specific the orient option\n",
    "# store the results in df_json\n",
    "\n",
    "import pandas as pd\n",
    "df_json = None"
   ]
  },
  {
   "cell_type": "code",
   "execution_count": null,
   "metadata": {},
   "outputs": [],
   "source": [
    "# TODO: Use the head method to see the first few rows of the resulting\n",
    "# dataframe"
   ]
  },
  {
   "cell_type": "markdown",
   "metadata": {},
   "source": [
    "注意，人口数据和之前练习中用到的是一样的。列的顺序可能不同，但数据是一样的。"
   ]
  },
  {
   "cell_type": "markdown",
   "metadata": {},
   "source": [
    "# 读取 JSON 文件的其他方法\n",
    "\n",
    "读取 JSON 文件，除了用 pandas 库，还可以用 json 库。运行下方单元格中的代码，看看用 json 库读取 JSON 的示例。Python 将 JSON 数据视为词典类型。"
   ]
  },
  {
   "cell_type": "code",
   "execution_count": null,
   "metadata": {},
   "outputs": [],
   "source": [
    "import json\n",
    "\n",
    "# read in the JSON file\n",
    "with open('population_data.json') as f:\n",
    "    json_data = json.load(f)\n",
    "\n",
    "# print the first record in the JSON file\n",
    "print(json_data[0])\n",
    "print('\\n')\n",
    "\n",
    "# show that JSON data is essentially a dictionary\n",
    "print(json_data[0]['Country Name'])\n",
    "print(json_data[0]['Country Code'])"
   ]
  },
  {
   "cell_type": "markdown",
   "metadata": {},
   "source": [
    "# 从 XML 文件中提取数据\n",
    "\n",
    "接下来，你还是要处理这个数据，只是格式变成了 XML。运行下方单元格中的代码，看看数据文件中的前 15 行是什么样。"
   ]
  },
  {
   "cell_type": "code",
   "execution_count": null,
   "metadata": {},
   "outputs": [],
   "source": [
    "# Run the code cell to print out the first 15 lines of the xml file\n",
    "print_lines(15, 'population_data.xml')"
   ]
  },
  {
   "cell_type": "markdown",
   "metadata": {},
   "source": [
    "XML 看起来和 HTML 很像。XML 是通过标签嵌套标签的方式组织起来的。XML 不像 JSON 那样易于查询。Pandas 不能直接读取 XML 文件。一个原因是标签名称是用户自定义的。每个 XML 文件都有不同的格式。这也就是 XML 为什么不如 JSON 受欢迎。"
   ]
  },
  {
   "attachments": {},
   "cell_type": "markdown",
   "metadata": {},
   "source": [
    "### 读取 XML\n",
    "\n",
    "有一个 Python 库叫做 BeautifulSoup，让读取和解析 XML 数据简单不少。这是文档的链接：[Beautiful Soup 文档](https://www.crummy.com/software/BeautifulSoup/)\n",
    "\n",
    "find() 方法会找到 XML 元素第一个出现的地方。比如，使用 find('record') 会返回 XML 文件中第一次出现的 record\n",
    "\n",
    "```xml\n",
    "<record>\n",
    "  <field name=\"Country or Area\" key=\"ABW\">Aruba</field>\n",
    "  <field name=\"Item\" key=\"SP.POP.TOTL\">Population, total</field>\n",
    "  <field name=\"Year\">1960</field>\n",
    "  <field name=\"Value\">54211</field>\n",
    "</record>\n",
    "```\n",
    "\n",
    "find_all() 方法会返回所有匹配的标签。find_all('record') 会返回所有的  `<record>` 标签。\n",
    "\n",
    "运行下方单元格中的代码，感受一下如何使用 BeautifulSoup 定位 XML 文件。要定位 XML 文件，你要使用 find() 方法或 find_all() 方法。 \n",
    "\n",
    "在这些代码单元格下面，有一个处理 XML 数据的练习。"
   ]
  },
  {
   "cell_type": "code",
   "execution_count": null,
   "metadata": {},
   "outputs": [],
   "source": [
    "# import the BeautifulSoup library\n",
    "from bs4 import BeautifulSoup\n",
    "\n",
    "# open the population_data.xml file and load into Beautiful Soup\n",
    "with open(\"population_data.xml\") as fp:\n",
    "    soup = BeautifulSoup(fp, \"lxml\") # lxml is the Parser type"
   ]
  },
  {
   "cell_type": "code",
   "execution_count": null,
   "metadata": {},
   "outputs": [],
   "source": [
    "# output the first 5 records in the xml file\n",
    "# this is an example of how to navigate the XML document with BeautifulSoup\n",
    "\n",
    "i = 0\n",
    "# use the find_all method to get all record tags in the document\n",
    "for record in soup.find_all('record'):\n",
    "    # use the find_all method to get all fields in each record\n",
    "    i += 1\n",
    "    for record in record.find_all('field'):\n",
    "        print(record['name'], ': ' , record.text)\n",
    "    print()\n",
    "    if i == 5:\n",
    "        break"
   ]
  },
  {
   "cell_type": "markdown",
   "metadata": {},
   "source": [
    "# XML 练习 (困难)\n",
    "\n",
    "用 XML 文件创建一个 dataframe。练习有点难度。一种思路是将 XML 数据转换成词典，然后使用词典创建 dataframe。 \n",
    "\n",
    "Dataframe 格式如下：\n",
    "\n",
    "| Country or Area | Year | Item | Value |\n",
    "|----|----|----|----|\n",
    "| Aruba | 1960 | Population, total | 54211 |\n",
    "| Aruba | 1961 | Population, total | 55348 |\n",
    "等等\n",
    "\n",
    "理论上讲，提取 XML，转换数据，将其放入 dataframe 就是一个完整的 ETL 管道。这是后面要学到的内容，这个练习有点超前，但你可以先熟悉 XML。"
   ]
  },
  {
   "cell_type": "code",
   "execution_count": null,
   "metadata": {},
   "outputs": [],
   "source": [
    "# TODO: Create a pandas data frame from the XML data.\n",
    "# HINT: You can use dictionaries to create pandas data frames.\n",
    "# HINT: https://pandas.pydata.org/pandas-docs/stable/generated/pandas.DataFrame.from_dict.html#pandas.DataFrame.from_dict\n",
    "# HINT: You can make a dictionary for each column or for each row (See the link above for more information)\n",
    "# HINT: Modify the code from the previous code cell"
   ]
  },
  {
   "cell_type": "markdown",
   "metadata": {},
   "source": [
    "# 结语\n",
    "\n",
    "像 CSV、JSON 和 XML 都是用来组织数据的格式。格式都正确的情况下，JSON 尤其好用。XML 是一个比较老的标准了，处理起来比较麻烦。提醒一下，这个练习配有解决方案文件。你可以打开 File->Open 点击 2_extract_exercise 查看。"
   ]
  }
 ],
 "metadata": {
  "kernelspec": {
   "display_name": "Python 3",
   "language": "python",
   "name": "python3"
  },
  "language_info": {
   "codemirror_mode": {
    "name": "ipython",
    "version": 3
   },
   "file_extension": ".py",
   "mimetype": "text/x-python",
   "name": "python",
   "nbconvert_exporter": "python",
   "pygments_lexer": "ipython3",
   "version": "3.6.3"
  }
 },
 "nbformat": 4,
 "nbformat_minor": 2
}
