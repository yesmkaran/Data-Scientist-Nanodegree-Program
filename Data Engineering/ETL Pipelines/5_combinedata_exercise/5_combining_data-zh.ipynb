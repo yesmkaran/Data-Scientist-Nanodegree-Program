{
 "cells": [
  {
   "cell_type": "markdown",
   "metadata": {},
   "source": [
    "# 整合数据\n",
    "\n",
    "练习要求你将两个数据集中的数据进行合并。在这个 Jupyter notebook 的目录里，有两个 csv 文件：\n",
    "* rural_population_percent.csv\n",
    "* electricity_access_percent.csv\n",
    "\n",
    "它们都来自于世界银行指标数据。 \n",
    "* https://data.worldbank.org/indicator/SP.RUR.TOTL.ZS\n",
    "* https://data.worldbank.org/indicator/EG.ELC.ACCS.ZS\n",
    "\n",
    "农村人口数据是指一个国家在不同时期的农村人口所占的百分比。电力供应数据是指享受到电力供应的人口所占的百分比。\n",
    "\n",
    "本练习中，你要将这两个数据集结合起来，生成一个 pandas dataframe。"
   ]
  },
  {
   "cell_type": "markdown",
   "metadata": {},
   "source": [
    "# 练习 1 \n",
    "\n",
    "使用 [pandas concat 方法](https://pandas.pydata.org/pandas-docs/stable/merging.html)来合并两个数据集。换句话说，找到两个数据集的交集。"
   ]
  },
  {
   "cell_type": "code",
   "execution_count": 3,
   "metadata": {},
   "outputs": [],
   "source": [
    "# TODO: import the pandas library\n",
    "\n",
    "# TODO: read in each csv file into a separate variable\n",
    "# HINT: remember from the Extract material that these csv file have some formatting issues\n",
    "# HINT: The file paths are 'rural_population_percent.csv' and 'electricity_access_percent.csv'\n",
    "df_rural = None\n",
    "df_electricity = None\n",
    "\n",
    "# TODO: remove the 'Unnamed:62' column from each data set\n",
    "\n",
    "# TODO: combine the two data sets together using the concat method\n",
    "# In other words, all of the rows of df_rural will come first\n",
    "# followed by all the rows in df_electricity. This is possible to do\n",
    "# because they both have the same column names."
   ]
  },
  {
   "cell_type": "markdown",
   "metadata": {},
   "source": [
    "# 练习 2 (困难)\n",
    "\n",
    "这个练习很有挑战性。\n",
    "\n",
    "将两份 csv 中的数据结合起来，结果像是这样：\n",
    "\n",
    "|Country Name|Country Code|Year|Rural_Value|Electricity_Value|\n",
    "|--|--|--|--|--|\n",
    "|Aruba|ABW|1960|49.224|49.239|\n",
    "...\n",
    "\n",
    "将 dataframe 中的数据按照先国家后年份的顺序排序。\n",
    "\n",
    "这是一些 pandas 方法，可能有用：\n",
    "* [melt](http://pandas.pydata.org/pandas-docs/stable/generated/pandas.melt.html)\n",
    "* [drop](https://pandas.pydata.org/pandas-docs/stable/generated/pandas.DataFrame.drop.html)\n",
    "* [merge](https://pandas.pydata.org/pandas-docs/version/0.23/generated/pandas.DataFrame.merge.html)\n",
    "* [sort_values](https://pandas.pydata.org/pandas-docs/stable/generated/pandas.DataFrame.sort_values.html)\n",
    "\n",
    "提示：你可以使用国家名称 (country name)、国家代号(country code) 和年份作为两个数据集共有的字段。"
   ]
  },
  {
   "cell_type": "code",
   "execution_count": 4,
   "metadata": {},
   "outputs": [],
   "source": [
    "# TODO: merge the data sets together according to the instructions. First, use the \n",
    "# melt method to change the formatting of each data frame so that it looks like this:\n",
    "# Country Name, Country Code, Year, Rural Value\n",
    "# Country Name, Country Code, Year, Electricity Value\n",
    "\n",
    "# TODO: drop any columns from the data frames that aren't needed\n",
    "\n",
    "# TODO: merge the data frames together based on their common columns\n",
    "# in this case, the common columns are Country Name, Country Code, and Year\n",
    "\n",
    "# TODO: sort the results by country and then by year\n",
    "\n",
    "df_combined = None"
   ]
  }
 ],
 "metadata": {
  "kernelspec": {
   "display_name": "Python 3",
   "language": "python",
   "name": "python3"
  },
  "language_info": {
   "codemirror_mode": {
    "name": "ipython",
    "version": 3
   },
   "file_extension": ".py",
   "mimetype": "text/x-python",
   "name": "python",
   "nbconvert_exporter": "python",
   "pygments_lexer": "ipython3",
   "version": "3.6.3"
  }
 },
 "nbformat": 4,
 "nbformat_minor": 2
}
