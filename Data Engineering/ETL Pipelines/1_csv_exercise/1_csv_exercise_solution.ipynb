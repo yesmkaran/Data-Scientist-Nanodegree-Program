{
 "cells": [
  {
   "cell_type": "markdown",
   "metadata": {},
   "source": [
    "# Goal of the ETL Lesson\n",
    "\n",
    "One goal of this ETL pipelines lesson is to take the [World Bank Project data set](https://datacatalog.worldbank.org/dataset/world-bank-projects-operations) and merge this data with the [World Bank indicator data](https://data.worldbank.org/indicator/SP.POP.TOTL). Then you'll load the merged data into a database.\n",
    "\n",
    "In the process, you'll need to transform these data sets in different ways. And finally, you'll write a single Python module that reads in these date sets, transforms them, and loads the results into the database all in one step.\n",
    "\n",
    "# Extracting data from a csv file\n",
    "\n",
    "The first step in an ETL pipeline is extraction. Data comes in all types of different formats, and you'll practice extracting data from csv files, json files, xml files, SQL databases, and the web.\n",
    "\n",
    "In this first exercise, you'll practice extracting data from a CSV file and then navigating through the results. You'll see that extracting data is not always a straight-forward process."
   ]
  },
  {
   "cell_type": "markdown",
   "metadata": {},
   "source": [
    "# Part 1 projects_data.csv\n",
    "\n",
    "There are two csv files loaded into this workspace:\n",
    "* projects_data.csv\n",
    "* population_data.csv\n",
    "\n",
    "As a first step, try importing the projects data using the pandas [read_csv method](https://pandas.pydata.org/pandas-docs/stable/generated/pandas.read_csv.html). The file path is just 'projects_data.csv'. You can see the file if you click on File->Open in the workspace."
   ]
  },
  {
   "cell_type": "code",
   "execution_count": 1,
   "metadata": {},
   "outputs": [
    {
     "name": "stderr",
     "output_type": "stream",
     "text": [
      "/opt/conda/lib/python3.6/site-packages/IPython/core/interactiveshell.py:2785: DtypeWarning: Columns (44) have mixed types. Specify dtype option on import or set low_memory=False.\n",
      "  interactivity=interactivity, compiler=compiler, result=result)\n"
     ]
    }
   ],
   "source": [
    "## TODO: import the projects_data.csv file using the pandas library\n",
    "import pandas as pd\n",
    "df_projects = pd.read_csv('projects_data.csv')"
   ]
  },
  {
   "cell_type": "markdown",
   "metadata": {},
   "source": [
    "Did you get a DType warning? Read about what this warning is in the [pandas documentation](https://pandas.pydata.org/pandas-docs/stable/generated/pandas.errors.DtypeWarning.html).\n",
    "\n",
    "Pandas could not automatically figure out the data type for each column (ie integer, string, etc.). That is because some columns have multiple data types. In other words, this data is somewhat messy.\n",
    "\n",
    "Try reading in the data set again using the read_csv() method. This time, also use the option dtype=str so that pandas treats everything like a string."
   ]
  },
  {
   "cell_type": "code",
   "execution_count": null,
   "metadata": {},
   "outputs": [],
   "source": [
    "# TODO: Read in the projects_data.csv file using the read_csv method \n",
    "# and dtype = str option\n",
    "df_projects = pd.read_csv('projects_data.csv', dtype=str)"
   ]
  },
  {
   "cell_type": "code",
   "execution_count": null,
   "metadata": {},
   "outputs": [],
   "source": [
    "# TODO: Run the cell below to see what the data looks like\n",
    "df_projects.head()"
   ]
  },
  {
   "cell_type": "code",
   "execution_count": null,
   "metadata": {},
   "outputs": [],
   "source": [
    "# TODO: count the number of null values in the data set\n",
    "# use the isnull() and sum() methods\n",
    "df_projects.isnull().sum()"
   ]
  },
  {
   "cell_type": "markdown",
   "metadata": {},
   "source": [
    "Notice that the number 18248 shows up multiple times. There is also a countryname column with 0 missing values and a Country column with 14045 missing values. This data set has some issues that will need to be solved in the transform part of the pipeline.\n",
    "\n",
    "Next, output the size of the data frame."
   ]
  },
  {
   "cell_type": "code",
   "execution_count": null,
   "metadata": {},
   "outputs": [],
   "source": [
    "# TODO: output the shape of the data frame\n",
    "df_projects.shape"
   ]
  },
  {
   "cell_type": "markdown",
   "metadata": {},
   "source": [
    "The number 18248 is interesting. Many columns in the data set are filled with only NaN values."
   ]
  },
  {
   "cell_type": "markdown",
   "metadata": {},
   "source": [
    "# Part 2 population_data.csv"
   ]
  },
  {
   "cell_type": "markdown",
   "metadata": {},
   "source": [
    "Next, use the pandas read_csv method to read in the population_data.csv file. The path to this file is \"population_data.csv\". You'll see that the results are not as expected."
   ]
  },
  {
   "cell_type": "code",
   "execution_count": null,
   "metadata": {},
   "outputs": [],
   "source": [
    "# TODO: read in the population_data.csv file\n",
    "df_population = pd.read_csv('population_data.csv')"
   ]
  },
  {
   "cell_type": "markdown",
   "metadata": {},
   "source": [
    "There is something wrong with this data set. You should see an error should say \"expected 3 fields in line 5, saw 63\". What might have happened? Try printing out the first few lines of the data file to see what the issue might be."
   ]
  },
  {
   "cell_type": "code",
   "execution_count": 2,
   "metadata": {},
   "outputs": [
    {
     "name": "stdout",
     "output_type": "stream",
     "text": [
      "line:  0 ﻿\"Data Source\",\"World Development Indicators\",\n",
      "\n",
      "line:  1 \n",
      "\n",
      "line:  2 \"Last Updated Date\",\"2018-06-28\",\n",
      "\n",
      "line:  3 \n",
      "\n",
      "line:  4 \"Country Name\",\"Country Code\",\"Indicator Name\",\"Indicator Code\",\"1960\",\"1961\",\"1962\",\"1963\",\"1964\",\"1965\",\"1966\",\"1967\",\"1968\",\"1969\",\"1970\",\"1971\",\"1972\",\"1973\",\"1974\",\"1975\",\"1976\",\"1977\",\"1978\",\"1979\",\"1980\",\"1981\",\"1982\",\"1983\",\"1984\",\"1985\",\"1986\",\"1987\",\"1988\",\"1989\",\"1990\",\"1991\",\"1992\",\"1993\",\"1994\",\"1995\",\"1996\",\"1997\",\"1998\",\"1999\",\"2000\",\"2001\",\"2002\",\"2003\",\"2004\",\"2005\",\"2006\",\"2007\",\"2008\",\"2009\",\"2010\",\"2011\",\"2012\",\"2013\",\"2014\",\"2015\",\"2016\",\"2017\",\n",
      "\n",
      "line:  5 \"Aruba\",\"ABW\",\"Population, total\",\"SP.POP.TOTL\",\"54211\",\"55438\",\"56225\",\"56695\",\"57032\",\"57360\",\"57715\",\"58055\",\"58386\",\"58726\",\"59063\",\"59440\",\"59840\",\"60243\",\"60528\",\"60657\",\"60586\",\"60366\",\"60103\",\"59980\",\"60096\",\"60567\",\"61345\",\"62201\",\"62836\",\"63026\",\"62644\",\"61833\",\"61079\",\"61032\",\"62149\",\"64622\",\"68235\",\"72504\",\"76700\",\"80324\",\"83200\",\"85451\",\"87277\",\"89005\",\"90853\",\"92898\",\"94992\",\"97017\",\"98737\",\"100031\",\"100832\",\"101220\",\"101353\",\"101453\",\"101669\",\"102053\",\"102577\",\"103187\",\"103795\",\"104341\",\"104822\",\"105264\",\n",
      "\n",
      "line:  6 \"Afghanistan\",\"AFG\",\"Population, total\",\"SP.POP.TOTL\",\"8996351\",\"9166764\",\"9345868\",\"9533954\",\"9731361\",\"9938414\",\"10152331\",\"10372630\",\"10604346\",\"10854428\",\"11126123\",\"11417825\",\"11721940\",\"12027822\",\"12321541\",\"12590286\",\"12840299\",\"13067538\",\"13237734\",\"13306695\",\"13248370\",\"13053954\",\"12749645\",\"12389269\",\"12047115\",\"11783050\",\"11601041\",\"11502761\",\"11540888\",\"11777609\",\"12249114\",\"12993657\",\"13981231\",\"15095099\",\"16172719\",\"17099541\",\"17822884\",\"18381605\",\"18863999\",\"19403676\",\"20093756\",\"20966463\",\"21979923\",\"23064851\",\"24118979\",\"25070798\",\"25893450\",\"26616792\",\"27294031\",\"28004331\",\"28803167\",\"29708599\",\"30696958\",\"31731688\",\"32758020\",\"33736494\",\"34656032\",\"35530081\",\n",
      "\n",
      "line:  7 \"Angola\",\"AGO\",\"Population, total\",\"SP.POP.TOTL\",\"5643182\",\"5753024\",\"5866061\",\"5980417\",\"6093321\",\"6203299\",\"6309770\",\"6414995\",\"6523791\",\"6642632\",\"6776381\",\"6927269\",\"7094834\",\"7277960\",\"7474338\",\"7682479\",\"7900997\",\"8130988\",\"8376147\",\"8641521\",\"8929900\",\"9244507\",\"9582156\",\"9931562\",\"10277321\",\"10609042\",\"10921037\",\"11218268\",\"11513968\",\"11827237\",\"12171441\",\"12553446\",\"12968345\",\"13403734\",\"13841301\",\"14268994\",\"14682284\",\"15088981\",\"15504318\",\"15949766\",\"16440924\",\"16983266\",\"17572649\",\"18203369\",\"18865716\",\"19552542\",\"20262399\",\"20997687\",\"21759420\",\"22549547\",\"23369131\",\"24218565\",\"25096150\",\"25998340\",\"26920466\",\"27859305\",\"28813463\",\"29784193\",\n",
      "\n",
      "line:  8 \"Albania\",\"ALB\",\"Population, total\",\"SP.POP.TOTL\",\"1608800\",\"1659800\",\"1711319\",\"1762621\",\"1814135\",\"1864791\",\"1914573\",\"1965598\",\"2022272\",\"2081695\",\"2135479\",\"2187853\",\"2243126\",\"2296752\",\"2350124\",\"2404831\",\"2458526\",\"2513546\",\"2566266\",\"2617832\",\"2671997\",\"2726056\",\"2784278\",\"2843960\",\"2904429\",\"2964762\",\"3022635\",\"3083605\",\"3142336\",\"3227943\",\"3286542\",\"3266790\",\"3247039\",\"3227287\",\"3207536\",\"3187784\",\"3168033\",\"3148281\",\"3128530\",\"3108778\",\"3089027\",\"3060173\",\"3051010\",\"3039616\",\"3026939\",\"3011487\",\"2992547\",\"2970017\",\"2947314\",\"2927519\",\"2913021\",\"2905195\",\"2900401\",\"2895092\",\"2889104\",\"2880703\",\"2876101\",\"2873457\",\n",
      "\n",
      "line:  9 \"Andorra\",\"AND\",\"Population, total\",\"SP.POP.TOTL\",\"13411\",\"14375\",\"15370\",\"16412\",\"17469\",\"18549\",\"19647\",\"20758\",\"21890\",\"23058\",\"24276\",\"25559\",\"26892\",\"28232\",\"29520\",\"30705\",\"31777\",\"32771\",\"33737\",\"34818\",\"36067\",\"37500\",\"39114\",\"40867\",\"42706\",\"44600\",\"46517\",\"48455\",\"50434\",\"52448\",\"54509\",\"56671\",\"58888\",\"60971\",\"62677\",\"63850\",\"64360\",\"64327\",\"64142\",\"64370\",\"65390\",\"67341\",\"70049\",\"73182\",\"76244\",\"78867\",\"80991\",\"82683\",\"83861\",\"84462\",\"84449\",\"83751\",\"82431\",\"80788\",\"79223\",\"78014\",\"77281\",\"76965\",\n",
      "\n"
     ]
    }
   ],
   "source": [
    "# TODO: Print out the first 10 lines of the data set, line by line.\n",
    "# HINT: You can't use the read_csv method from pandas\n",
    "# HINT: to do this manually, you'll need to use pure Python\n",
    "# HINT: the open(), readline(), and close() methods should be helpful\n",
    "# HINT: Use a for loop\n",
    "f = open('population_data.csv')\n",
    "for i in range(10):\n",
    "    line = f.readline()\n",
    "    print('line: ', i,  line)\n",
    "f.close()    "
   ]
  },
  {
   "cell_type": "markdown",
   "metadata": {},
   "source": [
    "The first four lines in the file are not properly formatted and don't contain data. Next, read in the data using the read_csv method. But this time, use the skiprows option."
   ]
  },
  {
   "cell_type": "code",
   "execution_count": null,
   "metadata": {},
   "outputs": [],
   "source": [
    "# TODO: read in population data skipping the first four rows\n",
    "df_population = pd.read_csv('population_data.csv', skiprows=4)"
   ]
  },
  {
   "cell_type": "code",
   "execution_count": null,
   "metadata": {},
   "outputs": [],
   "source": [
    "# TODO: Run this cell to see what the data looks like\n",
    "df_population.head()"
   ]
  },
  {
   "cell_type": "markdown",
   "metadata": {},
   "source": [
    "Make sure to scroll over to see what the last column looks like. That last column, called 'Unnamed: 62', doesn't look very useful and is filled with NaN values."
   ]
  },
  {
   "cell_type": "code",
   "execution_count": null,
   "metadata": {},
   "outputs": [],
   "source": [
    "# TODO: Count the number of null values in each column\n",
    "df_population.isnull().sum()"
   ]
  },
  {
   "cell_type": "markdown",
   "metadata": {},
   "source": [
    "It looks like every year column has at least one NaN value. "
   ]
  },
  {
   "cell_type": "code",
   "execution_count": null,
   "metadata": {},
   "outputs": [],
   "source": [
    "# TODO: Sum the null values by column\n",
    "# HINT: In the sum method, use axis=1\n",
    "df_population.isnull().sum(axis=1)"
   ]
  },
  {
   "cell_type": "markdown",
   "metadata": {},
   "source": [
    "And it looks like almost every row has only one null value. That is probably from the 'Unnamed: 62' column that doesn't have any relevant information in it. Next, drop the 'Unnamed: 62' column from the data frame."
   ]
  },
  {
   "cell_type": "code",
   "execution_count": null,
   "metadata": {},
   "outputs": [],
   "source": [
    "# TODO: drop the 'Unnamed: 62' column from the data frame, \n",
    "# and save the results in the df_population variable\n",
    "\n",
    "df_population = df_population.drop('Unnamed: 62', axis=1)"
   ]
  },
  {
   "cell_type": "code",
   "execution_count": null,
   "metadata": {},
   "outputs": [],
   "source": [
    "# Run this code cell.  \n",
    "# This code outputs any row that contains a null value\n",
    "# The purpose is to see what rows contain null values now that \n",
    "#   'Unnamed: 62' was dropped from the data.\n",
    "df_population[df_population.isnull().any(axis=1)]"
   ]
  }
 ],
 "metadata": {
  "kernelspec": {
   "display_name": "Python 3",
   "language": "python",
   "name": "python3"
  },
  "language_info": {
   "codemirror_mode": {
    "name": "ipython",
    "version": 3
   },
   "file_extension": ".py",
   "mimetype": "text/x-python",
   "name": "python",
   "nbconvert_exporter": "python",
   "pygments_lexer": "ipython3",
   "version": "3.6.3"
  }
 },
 "nbformat": 4,
 "nbformat_minor": 2
}
