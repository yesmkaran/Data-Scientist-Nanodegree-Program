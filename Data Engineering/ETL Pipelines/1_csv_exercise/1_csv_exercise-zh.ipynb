{
 "cells": [
  {
   "cell_type": "markdown",
   "metadata": {},
   "source": [
    "# 课程目标\n",
    "\n",
    "ETL 管道课程的主要目标是从[世界银行项目数据集](https://datacatalog.worldbank.org/dataset/world-bank-projects-operations)里提取数据，并将数据和[世界银行指标数据集](https://data.worldbank.org/indicator/SP.POP.TOTL)进行合并。然后你要把合并的数据加载到数据库中。\n",
    "\n",
    "在这个过程中，你需要用不同方式转换数据。最后，编码实现一个 ETL 管道来提取、转换和加载数据。\n",
    "\n",
    "# 从 CSV 文件提取数据\n",
    "\n",
    "ETL 管道的第一步是提取。数据有各种格式，你要练习从 CSV 文件、JSON 文件、XML文件、SQL 数据库以及网络上提取数据。在第一个练习中，你要实现从 CSV 文件中提取数据，并找到想要的结果。你会发现提取数据不总是简单、直接的过程。这个练习包含一系列的问题，需要你编写代码解决。如果你卡住了，可以参考解决方案文件 1_csv_exercise_solution.ipynb 。你可以通过点击 File->Open 然后点击文件名称打开。"
   ]
  },
  {
   "cell_type": "markdown",
   "metadata": {},
   "source": [
    "# Part 1 projects_data.csv\n",
    "\n",
    "你会用到下列 csv 文件：\n",
    "* projects_data.csv\n",
    "* population_data.csv\n",
    "\n",
    "第一步，用 pandas 导入数据 [read_csv method](https://pandas.pydata.org/pandas-docs/stable/generated/pandas.read_csv.html)。文件路径是 '../data/projects_data.csv'。你可以点击工作环境中的 File->Open ，打开数据文件夹，就能看到该文件了。"
   ]
  },
  {
   "cell_type": "code",
   "execution_count": null,
   "metadata": {},
   "outputs": [],
   "source": [
    "# TODO: import the projects_data.csv file using the pandas library\n",
    "# Store the results in the df_projects variable\n",
    "import pandas as pd\n",
    "df_projects = None"
   ]
  },
  {
   "cell_type": "markdown",
   "metadata": {},
   "source": [
    "你遇到 DType 警告了吗？可以在 [pandas文档](https://pandas.pydata.org/pandas-docs/stable/generated/pandas.errors.DtypeWarning.html) 中找到警告信息。\n",
    "\n",
    "pandas 会尝试解决每个列的数据类型（整型、浮点型、布尔型、字符串）。在这个例子中，pandas 无法解决数据类型问题。因为一些行有不止一种可能的数据类型。换句话说，数据很杂乱。\n",
    "\n",
    "你可以使用 dtype 参数来明确每个列的数据类型。因为数据集有很多列，你可以先把所有列都设置为字符串类型。\n",
    "\n",
    "尝试用 read_csv() 方法把数据集读进来。这次，还是用参数 dtype=str ，这样 pandas 会把所有列都处理成字符串。"
   ]
  },
  {
   "cell_type": "code",
   "execution_count": null,
   "metadata": {},
   "outputs": [],
   "source": [
    "# TODO: Read in the projects_data.csv file using the read_csv method \n",
    "# and dtype = str option\n",
    "df_projects = None"
   ]
  },
  {
   "cell_type": "code",
   "execution_count": null,
   "metadata": {},
   "outputs": [],
   "source": [
    "# Run the cell below to see what the data looks like\n",
    "df_projects.head()"
   ]
  },
  {
   "cell_type": "code",
   "execution_count": null,
   "metadata": {},
   "outputs": [],
   "source": [
    "# TODO: count the number of null values in the data set\n",
    "# HINT: use the isnull() and sum() methods\n"
   ]
  },
  {
   "cell_type": "markdown",
   "metadata": {},
   "source": [
    "注意 18248 出现了很多次。还有国家名称 (countryname) 一列有 0 个缺失值，国家 (country) 一列有 14045 个缺失值。很显然，这个数据集有一些问题，需要在数据转换的部分解决。\n",
    "\n",
    "下一步，输出 dataframe 的形状。"
   ]
  },
  {
   "cell_type": "code",
   "execution_count": null,
   "metadata": {},
   "outputs": [],
   "source": [
    "# TODO: output the shape of the data frame\n"
   ]
  },
  {
   "cell_type": "markdown",
   "metadata": {},
   "source": [
    "数据集有 18248 行。看到有些列有 18248 个 NaN 值，说明数据集里面有些列全是 NaN。"
   ]
  },
  {
   "cell_type": "markdown",
   "metadata": {},
   "source": [
    "# Part 2 population_data.csv"
   ]
  },
  {
   "cell_type": "markdown",
   "metadata": {},
   "source": [
    "下一步，使用 pandas 的 read_csv 方法读取 population_data.csv 文件。该文件的路径是 \"../data/population_data.csv\"。如果你试图用 pandas 读取该文件的时候，你会得到错误信息，说明数据有一些问题。"
   ]
  },
  {
   "cell_type": "code",
   "execution_count": null,
   "metadata": {},
   "outputs": [],
   "source": [
    "# TODO: read in the population_data.csv file using the read_csv() method\n",
    "# Put the results in a variable called df_population\n",
    "df_population = None"
   ]
  },
  {
   "cell_type": "markdown",
   "metadata": {},
   "source": [
    "这是数据的问题所在。你看到错误信息是 \"expected 3 fields in line 5, saw 63\"，发生了什么？试着打印出数据文件的前几行，看看问题出在哪。"
   ]
  },
  {
   "cell_type": "code",
   "execution_count": null,
   "metadata": {},
   "outputs": [],
   "source": [
    "# TODO: Print out the first 10 lines of the data set, line by line.\n",
    "# HINT: You can't use the read_csv method from pandas\n",
    "# HINT: to do this manually, you'll need to use pure Python\n",
    "# HINT: the open(), readline(), and close() methods should be helpful\n",
    "# HINT: Use a for loop\n"
   ]
  },
  {
   "cell_type": "markdown",
   "metadata": {},
   "source": [
    "文件的前 4 行的格式有问题，而且没有数据。接下来，用 read_csv 读取数据。但是这次使用 skiprows 参数。"
   ]
  },
  {
   "cell_type": "code",
   "execution_count": null,
   "metadata": {},
   "outputs": [],
   "source": [
    "# TODO: read in population data skipping the first four rows\n",
    "# Put the results in a variable called df_population\n",
    "\n",
    "df_population = None"
   ]
  },
  {
   "cell_type": "code",
   "execution_count": null,
   "metadata": {},
   "outputs": [],
   "source": [
    "# Run this cell to see what the data looks like\n",
    "df_population.head()"
   ]
  },
  {
   "cell_type": "markdown",
   "metadata": {},
   "source": [
    "这样可以保证跳过一些行，可以看到最后一列是什么。最后一列叫做 'Unnamed:62'，看起来没什么用，而且全是 NaN。"
   ]
  },
  {
   "cell_type": "code",
   "execution_count": null,
   "metadata": {},
   "outputs": [],
   "source": [
    "# TODO: Count the number of null values in each column"
   ]
  },
  {
   "cell_type": "markdown",
   "metadata": {},
   "source": [
    "看起来每个年份的列都至少有一个NaN。 "
   ]
  },
  {
   "cell_type": "code",
   "execution_count": null,
   "metadata": {},
   "outputs": [],
   "source": [
    "# TODO: Count the number of null values in each row\n",
    "# HINT: In the sum method, use axis=1"
   ]
  },
  {
   "cell_type": "markdown",
   "metadata": {},
   "source": [
    "而且每行都至少有一个空值。可能就是因为 'Unnamed:62' 这列没有相关信息。下一步，从数据框中删除 'Unnamed:62' 列。"
   ]
  },
  {
   "cell_type": "code",
   "execution_count": null,
   "metadata": {},
   "outputs": [],
   "source": [
    "# TODO: drop the 'Unnamed: 62' column from the data frame, \n",
    "# and save the results in the df_population variable\n",
    "\n",
    "df_population = None"
   ]
  },
  {
   "cell_type": "code",
   "execution_count": null,
   "metadata": {},
   "outputs": [],
   "source": [
    "# Run this code cell.  \n",
    "# This code outputs any row that contains a null value\n",
    "# The purpose is to see what rows contain null values now that \n",
    "#   'Unnamed: 62' was dropped from the data.\n",
    "df_population[df_population.isnull().any(axis=1)]"
   ]
  },
  {
   "cell_type": "markdown",
   "metadata": {},
   "source": [
    "# 结语\n",
    "\n",
    "人口数据看起来还行。只有 6 行有缺失值。在本课的数据转换部分，你将处理这些缺失值。\n",
    "\n",
    "如果你想要查看这个练习的解决方案文件，点击 File->Open 然后点击1_csv_exercise_solution.ipynb。\n",
    "\n",
    "在下一个练习，你将尝试从 JSON 和 XML 文件中提取数据。"
   ]
  }
 ],
 "metadata": {
  "kernelspec": {
   "display_name": "Python 3",
   "language": "python",
   "name": "python3"
  },
  "language_info": {
   "codemirror_mode": {
    "name": "ipython",
    "version": 3
   },
   "file_extension": ".py",
   "mimetype": "text/x-python",
   "name": "python",
   "nbconvert_exporter": "python",
   "pygments_lexer": "ipython3",
   "version": "3.6.3"
  }
 },
 "nbformat": 4,
 "nbformat_minor": 2
}
